{
 "cells": [
  {
   "cell_type": "markdown",
   "id": "acac253d-c84c-4ed1-905f-3184f7d557f3",
   "metadata": {},
   "source": [
    "# Scrape stat data"
   ]
  },
  {
   "cell_type": "markdown",
   "id": "01b8dcb8-4a60-4bc4-a6c4-dd22d58eece2",
   "metadata": {},
   "source": [
    "References:\n",
    "* Main source of scraped statistics: http://japan-mk.blog.jp/\n",
    "* Additional source of statistics: https://www.mariowiki.com/Mario_Kart_8_Deluxe_in-game_statistics"
   ]
  },
  {
   "cell_type": "markdown",
   "id": "aadf67e6-bb7f-44f7-9db7-49b9211c4a05",
   "metadata": {},
   "source": [
    "## Initial setup"
   ]
  },
  {
   "cell_type": "markdown",
   "id": "b331c53f-c851-42af-acf6-fc5559769746",
   "metadata": {},
   "source": [
    "### Import libraries"
   ]
  },
  {
   "cell_type": "code",
   "execution_count": 1,
   "id": "1eb81662-f9cb-4add-a9a7-5ae343b46c34",
   "metadata": {},
   "outputs": [],
   "source": [
    "# Async-related imports\n",
    "import asyncio\n",
    "import nest_asyncio\n",
    "\n",
    "# Web scraping imports\n",
    "import urllib.request\n",
    "from playwright.async_api import async_playwright\n",
    "from bs4 import BeautifulSoup\n",
    "\n",
    "# Data processing imports\n",
    "import os\n",
    "from pathlib import Path\n",
    "import json\n",
    "import math\n",
    "from tqdm.auto import tqdm\n",
    "import numpy as np\n",
    "import pandas as pd"
   ]
  },
  {
   "cell_type": "markdown",
   "id": "5d799545-9e43-40d4-a8e7-032d4812cc0c",
   "metadata": {},
   "source": [
    "### Pre-initialization"
   ]
  },
  {
   "cell_type": "code",
   "execution_count": 2,
   "id": "97dd9e73-bd0c-4f25-95d2-0a4e7a42955d",
   "metadata": {},
   "outputs": [],
   "source": [
    "# Utility functions\n",
    "def read_json(filename):\n",
    "    with open(filename) as fp:\n",
    "        return json.load(fp)\n",
    "    \n",
    "# Pre-initialization\n",
    "IS_RUNNING_NOTEBOOK = '__file__' not in globals()\n",
    "IS_RUNNING_BOKEH = __name__.startswith('bokeh')\n",
    "\n",
    "MAIN_DIRECTORY = os.path.abspath('') if IS_RUNNING_NOTEBOOK else os.path.dirname(__file__)\n",
    "ROOT_DIRECTORY = str(Path(MAIN_DIRECTORY).parent.absolute())\n",
    "\n",
    "nest_asyncio.apply()\n",
    "\n",
    "# Load Japanese-to-English translations\n",
    "JA_EN_TRANSLATE_TECHNICAL  = read_json(ROOT_DIRECTORY + '/translations/ja_en/technical.json')\n",
    "JA_EN_TRANSLATE_CHARACTERS = read_json(ROOT_DIRECTORY + '/translations/ja_en/characters.json')\n",
    "JA_EN_TRANSLATE_FRAMES     = read_json(ROOT_DIRECTORY + '/translations/ja_en/frames.json')\n",
    "JA_EN_TRANSLATE_TIRES      = read_json(ROOT_DIRECTORY + '/translations/ja_en/tires.json')\n",
    "JA_EN_TRANSLATE_GLIDERS    = read_json(ROOT_DIRECTORY + '/translations/ja_en/gliders.json')"
   ]
  },
  {
   "cell_type": "markdown",
   "id": "7659ff98-b4c9-4b3f-a129-cf93958d63ce",
   "metadata": {},
   "source": [
    "## Run main logic"
   ]
  },
  {
   "cell_type": "markdown",
   "id": "5e1a6479-7795-4aaa-b36a-829bd58731d5",
   "metadata": {},
   "source": [
    "### Define low-level logic"
   ]
  },
  {
   "cell_type": "code",
   "execution_count": 3,
   "id": "e49f67d4-5649-4ea5-a801-0e4d0337a5ec",
   "metadata": {},
   "outputs": [],
   "source": [
    "async def fetch_page_sources(urls, stat_tab=3):\n",
    "    page_sources = []\n",
    "    \n",
    "    async with async_playwright() as p:\n",
    "        # Open a new browser\n",
    "        browser = await p.chromium.launch()\n",
    "        \n",
    "        # Open each URL in a new tab to conserve resources\n",
    "        for (i, url) in enumerate(urls):\n",
    "            page = await browser.new_page()\n",
    "            await page.goto(url)\n",
    "\n",
    "            # Change stat tab\n",
    "            href = await page.evaluate(f'() => $(\".sw_sec{stat_tab}\").click()')\n",
    "\n",
    "            # Grab HTML content\n",
    "            page_sources.append(await page.content())\n",
    "            \n",
    "        # Close the browser session once we're done\n",
    "        await browser.close()\n",
    "    \n",
    "    return page_sources\n",
    "\n",
    "\n",
    "def extract_table_data_from_src(html_doc, translation_table):\n",
    "    html_soup = BeautifulSoup(html_doc, 'html.parser')\n",
    "    main_table = html_soup.select_one('table')\n",
    "\n",
    "    # Image tags don't have a proper text string to help identify each row, so we're extracting it from the 'alt' attribute\n",
    "    for img_tag in main_table.select('tbody > tr > td > img'):\n",
    "        img_tag.replace_with(img_tag['alt'], ' / ')\n",
    "\n",
    "    # Replace Japanese text with English\n",
    "    translated_main_table = str(main_table)\n",
    "    for (ja_text, en_text) in translation_table.items():\n",
    "        translated_main_table = translated_main_table.replace(ja_text, en_text)\n",
    "\n",
    "    # Use Pandas to parse the table and standardize the dataframe\n",
    "    table_df = pd.read_html(translated_main_table, flavor='html5lib')[0]\n",
    "    table_df = standardize_dataframe(table_df)\n",
    "    return table_df\n",
    "\n",
    "\n",
    "def standardize_dataframe(df):\n",
    "    def _to_numeric(cell):\n",
    "        try:\n",
    "            return float(cell)\n",
    "        except ValueError:\n",
    "            return cell\n",
    "    \n",
    "    def _remove_dupes(arr):\n",
    "        return list(dict.fromkeys(arr))\n",
    "    \n",
    "    # Convert all cells to numeric if possible\n",
    "    df = df.applymap(_to_numeric)\n",
    "    \n",
    "    # Merge the multi-index to a single index\n",
    "    df = df.set_axis(\n",
    "        np.apply_along_axis(\n",
    "            # HACK: We need to wrap the row in an numpy array since a string is an\n",
    "            # array of characters and the output of the function expects a 1D array of sorts\n",
    "            # Additionally, not casting it as an 'object' will trim the string contents to the shortest string size\n",
    "            lambda row: np.array(\" - \".join( _remove_dupes(row) ), dtype='object'),\n",
    "            axis=1,\n",
    "            arr=np.array(df.columns.tolist(), dtype = 'object')\n",
    "        ),\n",
    "        axis='columns'\n",
    "    )\n",
    "    \n",
    "    # Remove rows that have all strings. This works by collecting all present types across each row, getting its\n",
    "    # string representation, removing the 'str' type and checking if any other types remain\n",
    "    df = df[\n",
    "        np.apply_along_axis(\n",
    "            func1d=lambda row: len(set([type(cell).__name__ for cell in row]) - {'str'}),\n",
    "            axis=1,\n",
    "            arr=df.to_numpy()\n",
    "        ) == 1\n",
    "    ]\n",
    "    \n",
    "    # Remove the ending slashes from the first column\n",
    "    df.iloc[:, 0] = df.iloc[:, 0].str.rstrip(to_strip=' /')\n",
    "    \n",
    "    return df"
   ]
  },
  {
   "cell_type": "markdown",
   "id": "ca5d50da-66f5-407e-9a1c-fcfc310d8656",
   "metadata": {},
   "source": [
    "### Scrape stats from japan-mk.blog.jp"
   ]
  },
  {
   "cell_type": "code",
   "execution_count": 4,
   "id": "ce52e88a-f18c-48de-bdcc-ffd5e40d41f0",
   "metadata": {},
   "outputs": [
    {
     "name": "stdout",
     "output_type": "stream",
     "text": [
      "Fetching all page statistics sources...done!\n"
     ]
    }
   ],
   "source": [
    "async def scrape_sources():\n",
    "    return await fetch_page_sources([\n",
    "        'http://japan-mk.blog.jp/mk8dx.st-c', # Characters\n",
    "        'http://japan-mk.blog.jp/mk8dx.st-f', # Frames\n",
    "        'http://japan-mk.blog.jp/mk8dx.st-t', # Tires\n",
    "        'http://japan-mk.blog.jp/mk8dx.st-g', # Gliders\n",
    "    ], stat_tab=1)\n",
    "\n",
    "MAIN_LOOP = asyncio.get_event_loop()\n",
    "\n",
    "print('Fetching all page statistics sources...', end='')\n",
    "\n",
    "(\n",
    "    char_stat_src,\n",
    "    frame_stat_src,\n",
    "    tire_stat_src,\n",
    "    glider_stat_src,\n",
    ") = MAIN_LOOP.run_until_complete(scrape_sources())\n",
    "\n",
    "print('done!')"
   ]
  },
  {
   "cell_type": "markdown",
   "id": "a2f9c491-954b-4ac6-a893-0553f12e5b23",
   "metadata": {},
   "source": [
    "### Extract data from sources"
   ]
  },
  {
   "cell_type": "code",
   "execution_count": 5,
   "id": "f9f8af42-cc35-4d8b-a91b-3f50805d871a",
   "metadata": {},
   "outputs": [
    {
     "name": "stdout",
     "output_type": "stream",
     "text": [
      "Extracting tabular data from sources...done!\n"
     ]
    }
   ],
   "source": [
    "print('Extracting tabular data from sources...', end='')\n",
    "\n",
    "character_stats_df = extract_table_data_from_src(char_stat_src,   JA_EN_TRANSLATE_TECHNICAL | JA_EN_TRANSLATE_CHARACTERS).set_index('Character')\n",
    "frame_stats_df     = extract_table_data_from_src(frame_stat_src,  JA_EN_TRANSLATE_TECHNICAL | JA_EN_TRANSLATE_FRAMES).set_index('Parts')\n",
    "tire_stats_df      = extract_table_data_from_src(tire_stat_src,   JA_EN_TRANSLATE_TECHNICAL | JA_EN_TRANSLATE_TIRES).set_index('Parts')\n",
    "glider_stats_df    = extract_table_data_from_src(glider_stat_src, JA_EN_TRANSLATE_TECHNICAL | JA_EN_TRANSLATE_GLIDERS).set_index('Parts')\n",
    "\n",
    "print('done!')"
   ]
  },
  {
   "cell_type": "code",
   "execution_count": 6,
   "id": "b3c5962a-6cf8-4f37-a36c-8e3421de8f72",
   "metadata": {},
   "outputs": [
    {
     "name": "stdout",
     "output_type": "stream",
     "text": [
      "Total possible combos: 26656\n"
     ]
    }
   ],
   "source": [
    "dframes = {\n",
    "    'Character': character_stats_df,\n",
    "    'Frame':     frame_stats_df,\n",
    "    'Tire':      tire_stats_df,\n",
    "    'Glider':    glider_stats_df,\n",
    "}\n",
    "\n",
    "total_combos = math.prod([dframe.shape[0] for dframe in dframes.values()])\n",
    "print(f'Total possible combos: {total_combos}')"
   ]
  },
  {
   "cell_type": "markdown",
   "id": "3990fea6-6035-4f75-9671-816b198b80eb",
   "metadata": {},
   "source": [
    "### Generate all possible kart combos\n",
    "\n",
    "NOTE: To whomever is reading this: YES, I know this code isn't using pandas 'good practices' but this is a one-time operation that only takes at most a few seconds. I value readability over performance as this is not my full time job and I'd rather not lose my mind trying to relearn a sub-language (pandas) inside a language (python)."
   ]
  },
  {
   "cell_type": "code",
   "execution_count": 7,
   "id": "abcd62e0-389f-40fc-9ba5-eeca4f27d22b",
   "metadata": {},
   "outputs": [],
   "source": [
    "# Given the index for each combo feature, compute the total in-game stats\n",
    "def compute_combo_stats(character_index, frame_index, tire_index, glider_index):\n",
    "    character_stats = dframes['Character'].iloc[character_index]\n",
    "    frame_stats     = dframes['Frame'].iloc[frame_index]\n",
    "    tire_stats      = dframes['Tire'].iloc[tire_index]\n",
    "    glider_stats    = dframes['Glider'].iloc[glider_index]\n",
    "\n",
    "    part_names = (character_stats.name, frame_stats.name, tire_stats.name, glider_stats.name)\n",
    "    total_stats = character_stats + frame_stats + tire_stats + glider_stats\n",
    "    \n",
    "    return part_names, total_stats"
   ]
  },
  {
   "cell_type": "code",
   "execution_count": 8,
   "id": "b495c30c-1ca4-4be6-9b2f-ca8e09c36a8e",
   "metadata": {},
   "outputs": [
    {
     "data": {
      "application/vnd.jupyter.widget-view+json": {
       "model_id": "dfa22cbbae11417eb8703420fed6962b",
       "version_major": 2,
       "version_minor": 0
      },
      "text/plain": [
       "  0%|          | 0/26656 [00:00<?, ?it/s]"
      ]
     },
     "metadata": {},
     "output_type": "display_data"
    }
   ],
   "source": [
    "all_combos = []\n",
    "combo_bar = tqdm(range(total_combos))\n",
    "\n",
    "# Generate all possible kart combos' stats and string them together in a DataFrame\n",
    "for c_index in range(dframes['Character'].shape[0]):\n",
    "    for f_index in range(dframes['Frame'].shape[0]):\n",
    "        for t_index in range(dframes['Tire'].shape[0]):\n",
    "            for g_index in range(dframes['Glider'].shape[0]):\n",
    "                combo_bar.update(1)\n",
    "\n",
    "                part_names, total_stats = compute_combo_stats(c_index, f_index, t_index, g_index)\n",
    "                total_stats['Character'] = part_names[0]\n",
    "                total_stats['Frame'] = part_names[1]\n",
    "                total_stats['Tire'] = part_names[2]\n",
    "                total_stats['Glider'] = part_names[3]\n",
    "                all_combos.append(total_stats)\n",
    "\n",
    "all_combos_df = (\n",
    "    pd.concat(all_combos, axis=1)\n",
    "        .transpose()\n",
    "        .set_index(['Character', 'Frame', 'Tire', 'Glider'])\n",
    "        .infer_objects()\n",
    ")\n",
    "\n",
    "all_combos_df.to_csv(f'{ROOT_DIRECTORY}/stats/All-Combos.csv', index=True)"
   ]
  },
  {
   "cell_type": "code",
   "execution_count": 9,
   "id": "0f50ed60-3f1c-4143-b558-876841fdb41a",
   "metadata": {},
   "outputs": [
    {
     "data": {
      "text/html": [
       "<div>\n",
       "<style scoped>\n",
       "    .dataframe tbody tr th:only-of-type {\n",
       "        vertical-align: middle;\n",
       "    }\n",
       "\n",
       "    .dataframe tbody tr th {\n",
       "        vertical-align: top;\n",
       "    }\n",
       "\n",
       "    .dataframe thead th {\n",
       "        text-align: right;\n",
       "    }\n",
       "</style>\n",
       "<table border=\"1\" class=\"dataframe\">\n",
       "  <thead>\n",
       "    <tr style=\"text-align: right;\">\n",
       "      <th></th>\n",
       "      <th></th>\n",
       "      <th></th>\n",
       "      <th></th>\n",
       "      <th>Speed - Land</th>\n",
       "      <th>Speed - Water</th>\n",
       "      <th>Speed - Air</th>\n",
       "      <th>Speed - Anti-G</th>\n",
       "      <th>Acceleration</th>\n",
       "      <th>Weight</th>\n",
       "      <th>Handling - Land</th>\n",
       "      <th>Handling - Water</th>\n",
       "      <th>Handling - Air</th>\n",
       "      <th>Handling - Anti-G</th>\n",
       "      <th>Off-Road Traction</th>\n",
       "      <th>Mini Turbo</th>\n",
       "      <th>Invincibility</th>\n",
       "    </tr>\n",
       "    <tr>\n",
       "      <th>Character</th>\n",
       "      <th>Frame</th>\n",
       "      <th>Tire</th>\n",
       "      <th>Glider</th>\n",
       "      <th></th>\n",
       "      <th></th>\n",
       "      <th></th>\n",
       "      <th></th>\n",
       "      <th></th>\n",
       "      <th></th>\n",
       "      <th></th>\n",
       "      <th></th>\n",
       "      <th></th>\n",
       "      <th></th>\n",
       "      <th></th>\n",
       "      <th></th>\n",
       "      <th></th>\n",
       "    </tr>\n",
       "  </thead>\n",
       "  <tbody>\n",
       "    <tr>\n",
       "      <th>Baby Peach / Baby Daisy</th>\n",
       "      <th>Varmint / City Tripper</th>\n",
       "      <th>Off-Road / Retro Off-Road</th>\n",
       "      <th>Peach Parasol / Parafoil / Bowser Kite / MKTV Parafoil</th>\n",
       "      <td>6.0</td>\n",
       "      <td>8.0</td>\n",
       "      <td>4.0</td>\n",
       "      <td>5.0</td>\n",
       "      <td>15.0</td>\n",
       "      <td>5.0</td>\n",
       "      <td>17.0</td>\n",
       "      <td>16.0</td>\n",
       "      <td>16.0</td>\n",
       "      <td>16.0</td>\n",
       "      <td>15.0</td>\n",
       "      <td>16.0</td>\n",
       "      <td>13.0</td>\n",
       "    </tr>\n",
       "    <tr>\n",
       "      <th>Peach / Daisy / Yoshi / Birdo</th>\n",
       "      <th>Prancer</th>\n",
       "      <th>Standard / Blue Standard</th>\n",
       "      <th>Cloud Glider / Parachute / Flower Glider / Paper Glider</th>\n",
       "      <td>12.0</td>\n",
       "      <td>13.0</td>\n",
       "      <td>13.0</td>\n",
       "      <td>12.0</td>\n",
       "      <td>11.0</td>\n",
       "      <td>7.0</td>\n",
       "      <td>12.0</td>\n",
       "      <td>11.0</td>\n",
       "      <td>13.0</td>\n",
       "      <td>11.0</td>\n",
       "      <td>11.0</td>\n",
       "      <td>14.0</td>\n",
       "      <td>9.0</td>\n",
       "    </tr>\n",
       "    <tr>\n",
       "      <th>Baby Peach / Baby Daisy</th>\n",
       "      <th>Inkstriker</th>\n",
       "      <th>Standard / Blue Standard</th>\n",
       "      <th>Wario Wing / Plane Glider / Gold Glider / Paraglider</th>\n",
       "      <td>7.0</td>\n",
       "      <td>7.0</td>\n",
       "      <td>10.0</td>\n",
       "      <td>9.0</td>\n",
       "      <td>12.0</td>\n",
       "      <td>7.0</td>\n",
       "      <td>16.0</td>\n",
       "      <td>16.0</td>\n",
       "      <td>16.0</td>\n",
       "      <td>17.0</td>\n",
       "      <td>14.0</td>\n",
       "      <td>15.0</td>\n",
       "      <td>13.0</td>\n",
       "    </tr>\n",
       "  </tbody>\n",
       "</table>\n",
       "</div>"
      ],
      "text/plain": [
       "                                                                                                                                   Speed - Land  \\\n",
       "Character                     Frame                  Tire                      Glider                                                             \n",
       "Baby Peach / Baby Daisy       Varmint / City Tripper Off-Road / Retro Off-Road Peach Parasol / Parafoil / Bowser Kite / MKTV P...           6.0   \n",
       "Peach / Daisy / Yoshi / Birdo Prancer                Standard / Blue Standard  Cloud Glider / Parachute / Flower Glider / Pape...          12.0   \n",
       "Baby Peach / Baby Daisy       Inkstriker             Standard / Blue Standard  Wario Wing / Plane Glider / Gold Glider / Parag...           7.0   \n",
       "\n",
       "                                                                                                                                   Speed - Water  \\\n",
       "Character                     Frame                  Tire                      Glider                                                              \n",
       "Baby Peach / Baby Daisy       Varmint / City Tripper Off-Road / Retro Off-Road Peach Parasol / Parafoil / Bowser Kite / MKTV P...            8.0   \n",
       "Peach / Daisy / Yoshi / Birdo Prancer                Standard / Blue Standard  Cloud Glider / Parachute / Flower Glider / Pape...           13.0   \n",
       "Baby Peach / Baby Daisy       Inkstriker             Standard / Blue Standard  Wario Wing / Plane Glider / Gold Glider / Parag...            7.0   \n",
       "\n",
       "                                                                                                                                   Speed - Air  \\\n",
       "Character                     Frame                  Tire                      Glider                                                            \n",
       "Baby Peach / Baby Daisy       Varmint / City Tripper Off-Road / Retro Off-Road Peach Parasol / Parafoil / Bowser Kite / MKTV P...          4.0   \n",
       "Peach / Daisy / Yoshi / Birdo Prancer                Standard / Blue Standard  Cloud Glider / Parachute / Flower Glider / Pape...         13.0   \n",
       "Baby Peach / Baby Daisy       Inkstriker             Standard / Blue Standard  Wario Wing / Plane Glider / Gold Glider / Parag...         10.0   \n",
       "\n",
       "                                                                                                                                   Speed - Anti-G  \\\n",
       "Character                     Frame                  Tire                      Glider                                                               \n",
       "Baby Peach / Baby Daisy       Varmint / City Tripper Off-Road / Retro Off-Road Peach Parasol / Parafoil / Bowser Kite / MKTV P...             5.0   \n",
       "Peach / Daisy / Yoshi / Birdo Prancer                Standard / Blue Standard  Cloud Glider / Parachute / Flower Glider / Pape...            12.0   \n",
       "Baby Peach / Baby Daisy       Inkstriker             Standard / Blue Standard  Wario Wing / Plane Glider / Gold Glider / Parag...             9.0   \n",
       "\n",
       "                                                                                                                                   Acceleration  \\\n",
       "Character                     Frame                  Tire                      Glider                                                             \n",
       "Baby Peach / Baby Daisy       Varmint / City Tripper Off-Road / Retro Off-Road Peach Parasol / Parafoil / Bowser Kite / MKTV P...          15.0   \n",
       "Peach / Daisy / Yoshi / Birdo Prancer                Standard / Blue Standard  Cloud Glider / Parachute / Flower Glider / Pape...          11.0   \n",
       "Baby Peach / Baby Daisy       Inkstriker             Standard / Blue Standard  Wario Wing / Plane Glider / Gold Glider / Parag...          12.0   \n",
       "\n",
       "                                                                                                                                   Weight  \\\n",
       "Character                     Frame                  Tire                      Glider                                                       \n",
       "Baby Peach / Baby Daisy       Varmint / City Tripper Off-Road / Retro Off-Road Peach Parasol / Parafoil / Bowser Kite / MKTV P...     5.0   \n",
       "Peach / Daisy / Yoshi / Birdo Prancer                Standard / Blue Standard  Cloud Glider / Parachute / Flower Glider / Pape...     7.0   \n",
       "Baby Peach / Baby Daisy       Inkstriker             Standard / Blue Standard  Wario Wing / Plane Glider / Gold Glider / Parag...     7.0   \n",
       "\n",
       "                                                                                                                                   Handling - Land  \\\n",
       "Character                     Frame                  Tire                      Glider                                                                \n",
       "Baby Peach / Baby Daisy       Varmint / City Tripper Off-Road / Retro Off-Road Peach Parasol / Parafoil / Bowser Kite / MKTV P...             17.0   \n",
       "Peach / Daisy / Yoshi / Birdo Prancer                Standard / Blue Standard  Cloud Glider / Parachute / Flower Glider / Pape...             12.0   \n",
       "Baby Peach / Baby Daisy       Inkstriker             Standard / Blue Standard  Wario Wing / Plane Glider / Gold Glider / Parag...             16.0   \n",
       "\n",
       "                                                                                                                                   Handling - Water  \\\n",
       "Character                     Frame                  Tire                      Glider                                                                 \n",
       "Baby Peach / Baby Daisy       Varmint / City Tripper Off-Road / Retro Off-Road Peach Parasol / Parafoil / Bowser Kite / MKTV P...              16.0   \n",
       "Peach / Daisy / Yoshi / Birdo Prancer                Standard / Blue Standard  Cloud Glider / Parachute / Flower Glider / Pape...              11.0   \n",
       "Baby Peach / Baby Daisy       Inkstriker             Standard / Blue Standard  Wario Wing / Plane Glider / Gold Glider / Parag...              16.0   \n",
       "\n",
       "                                                                                                                                   Handling - Air  \\\n",
       "Character                     Frame                  Tire                      Glider                                                               \n",
       "Baby Peach / Baby Daisy       Varmint / City Tripper Off-Road / Retro Off-Road Peach Parasol / Parafoil / Bowser Kite / MKTV P...            16.0   \n",
       "Peach / Daisy / Yoshi / Birdo Prancer                Standard / Blue Standard  Cloud Glider / Parachute / Flower Glider / Pape...            13.0   \n",
       "Baby Peach / Baby Daisy       Inkstriker             Standard / Blue Standard  Wario Wing / Plane Glider / Gold Glider / Parag...            16.0   \n",
       "\n",
       "                                                                                                                                   Handling - Anti-G  \\\n",
       "Character                     Frame                  Tire                      Glider                                                                  \n",
       "Baby Peach / Baby Daisy       Varmint / City Tripper Off-Road / Retro Off-Road Peach Parasol / Parafoil / Bowser Kite / MKTV P...               16.0   \n",
       "Peach / Daisy / Yoshi / Birdo Prancer                Standard / Blue Standard  Cloud Glider / Parachute / Flower Glider / Pape...               11.0   \n",
       "Baby Peach / Baby Daisy       Inkstriker             Standard / Blue Standard  Wario Wing / Plane Glider / Gold Glider / Parag...               17.0   \n",
       "\n",
       "                                                                                                                                   Off-Road Traction  \\\n",
       "Character                     Frame                  Tire                      Glider                                                                  \n",
       "Baby Peach / Baby Daisy       Varmint / City Tripper Off-Road / Retro Off-Road Peach Parasol / Parafoil / Bowser Kite / MKTV P...               15.0   \n",
       "Peach / Daisy / Yoshi / Birdo Prancer                Standard / Blue Standard  Cloud Glider / Parachute / Flower Glider / Pape...               11.0   \n",
       "Baby Peach / Baby Daisy       Inkstriker             Standard / Blue Standard  Wario Wing / Plane Glider / Gold Glider / Parag...               14.0   \n",
       "\n",
       "                                                                                                                                   Mini Turbo  \\\n",
       "Character                     Frame                  Tire                      Glider                                                           \n",
       "Baby Peach / Baby Daisy       Varmint / City Tripper Off-Road / Retro Off-Road Peach Parasol / Parafoil / Bowser Kite / MKTV P...        16.0   \n",
       "Peach / Daisy / Yoshi / Birdo Prancer                Standard / Blue Standard  Cloud Glider / Parachute / Flower Glider / Pape...        14.0   \n",
       "Baby Peach / Baby Daisy       Inkstriker             Standard / Blue Standard  Wario Wing / Plane Glider / Gold Glider / Parag...        15.0   \n",
       "\n",
       "                                                                                                                                   Invincibility  \n",
       "Character                     Frame                  Tire                      Glider                                                             \n",
       "Baby Peach / Baby Daisy       Varmint / City Tripper Off-Road / Retro Off-Road Peach Parasol / Parafoil / Bowser Kite / MKTV P...           13.0  \n",
       "Peach / Daisy / Yoshi / Birdo Prancer                Standard / Blue Standard  Cloud Glider / Parachute / Flower Glider / Pape...            9.0  \n",
       "Baby Peach / Baby Daisy       Inkstriker             Standard / Blue Standard  Wario Wing / Plane Glider / Gold Glider / Parag...           13.0  "
      ]
     },
     "execution_count": 9,
     "metadata": {},
     "output_type": "execute_result"
    }
   ],
   "source": [
    "# TIP: Ctrl + Enter/Return to check out random combos\n",
    "all_combos_df.sample(n=3).head()"
   ]
  },
  {
   "cell_type": "markdown",
   "id": "1f351ce1-3d5c-4d79-8613-9cd73053b63d",
   "metadata": {},
   "source": [
    "### Save extracted data to CSV"
   ]
  },
  {
   "cell_type": "code",
   "execution_count": 10,
   "id": "a30fa92c-14df-431f-a2e0-dd4943adf50e",
   "metadata": {},
   "outputs": [
    {
     "name": "stdout",
     "output_type": "stream",
     "text": [
      "Saving extracted data to CSVs...done!\n"
     ]
    }
   ],
   "source": [
    "print('Saving extracted data to CSVs...', end='')\n",
    "\n",
    "Path(f'{ROOT_DIRECTORY}/stats').mkdir(parents=True, exist_ok=True)\n",
    "for (name, df) in dframes.items():\n",
    "    df.to_csv(f'{ROOT_DIRECTORY}/stats/{name}.csv', index=True)\n",
    "    \n",
    "print('done!')"
   ]
  }
 ],
 "metadata": {
  "kernelspec": {
   "display_name": "Python 3 (ipykernel)",
   "language": "python",
   "name": "python3"
  },
  "language_info": {
   "codemirror_mode": {
    "name": "ipython",
    "version": 3
   },
   "file_extension": ".py",
   "mimetype": "text/x-python",
   "name": "python",
   "nbconvert_exporter": "python",
   "pygments_lexer": "ipython3",
   "version": "3.10.12"
  }
 },
 "nbformat": 4,
 "nbformat_minor": 5
}
